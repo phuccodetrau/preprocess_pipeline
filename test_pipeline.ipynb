{
 "cells": [
  {
   "cell_type": "code",
   "execution_count": 1,
   "metadata": {},
   "outputs": [],
   "source": [
    "from preprocess_data.parse_data import ParseHandler\n",
    "from preprocess_data.chunking import ChunkHandler\n",
    "import os\n",
    "import io\n",
    "api_key = os.environ[\"OPENAI_API_KEY\"]"
   ]
  },
  {
   "cell_type": "code",
   "execution_count": 2,
   "metadata": {},
   "outputs": [],
   "source": [
    "parsehandler = ParseHandler.get_instance(api_key=api_key)"
   ]
  },
  {
   "cell_type": "code",
   "execution_count": 3,
   "metadata": {},
   "outputs": [],
   "source": [
    "def pdf_to_stream(file_path):\n",
    "    with open(file_path, 'rb') as pdf_file:\n",
    "        pdf_content = pdf_file.read()\n",
    "        pdf_stream = io.BytesIO(pdf_content)\n",
    "    return pdf_stream"
   ]
  },
  {
   "cell_type": "code",
   "execution_count": 7,
   "metadata": {},
   "outputs": [],
   "source": [
    "file_path = 'thuvienphapluat/law_2. Tai lieu Khach hang cung cap_5. Salary Regulation 2024 (V) (1).pdf'\n",
    "pdf_stream = pdf_to_stream(file_path)"
   ]
  },
  {
   "cell_type": "code",
   "execution_count": 8,
   "metadata": {},
   "outputs": [],
   "source": [
    "image_base64s = parsehandler.pdf_to_images(file_stream=pdf_stream, pdf_path=file_path)"
   ]
  },
  {
   "cell_type": "code",
   "execution_count": 10,
   "metadata": {},
   "outputs": [],
   "source": [
    "def parsing(file_stream, pdf_path):\n",
    "    parsehandler = ParseHandler.get_instance(api_key=api_key)\n",
    "    image_base64s = parsehandler.pdf_to_images(file_stream, pdf_path)\n",
    "    pages, pdf_info, tables, equations = parsehandler.parse_pdf(image_base64s, pdf_path)\n",
    "    return pages, pdf_info, tables, equations"
   ]
  },
  {
   "cell_type": "code",
   "execution_count": 11,
   "metadata": {},
   "outputs": [
    {
     "name": "stdout",
     "output_type": "stream",
     "text": [
      "1\n",
      "1\n",
      "1\n",
      "1\n",
      "1\n",
      "1\n",
      "1\n",
      "1\n",
      "1\n",
      "1\n",
      "1\n"
     ]
    }
   ],
   "source": [
    "pages, pdf_info, tables, equations = parsing(pdf_stream, file_path)"
   ]
  },
  {
   "cell_type": "code",
   "execution_count": 12,
   "metadata": {},
   "outputs": [],
   "source": [
    "import json\n",
    "data = {\"pages\": pages, \"pdf_info\": pdf_info, \"tables\": tables, \"equations\": equations}\n",
    "with open(\"parsing_result/Salary_regulation(V).json\", \"w\", encoding=\"utf-8\") as json_file:\n",
    "    json.dump(data, json_file, indent=4, ensure_ascii=False)"
   ]
  },
  {
   "cell_type": "code",
   "execution_count": 1,
   "metadata": {},
   "outputs": [],
   "source": [
    "import json\n",
    "with open(\"parsing_result/Salary_regulation(V).json\", \"r\", encoding=\"utf-8\") as json_file:\n",
    "    data = json.load(json_file)"
   ]
  },
  {
   "cell_type": "code",
   "execution_count": 6,
   "metadata": {},
   "outputs": [],
   "source": [
    "with open(f\"parsing_result/tables.md\", \"a\", encoding=\"utf-8\") as file:\n",
    "    for table in data[\"tables\"]:\n",
    "        file.write(table[\"content\"] + \"\\n\\n\")"
   ]
  },
  {
   "cell_type": "code",
   "execution_count": null,
   "metadata": {},
   "outputs": [],
   "source": [
    "with open(f\"parsing_result/equations.md\", \"a\", encoding=\"utf-8\") as file:\n",
    "    for equation in data[\"equations\"]:\n",
    "        file.write(equation[\"content\"] + \"\\n\\n\")"
   ]
  },
  {
   "cell_type": "code",
   "execution_count": 12,
   "metadata": {},
   "outputs": [],
   "source": [
    "pages, pdf_info, tables, equations = data[\"pages\"], data[\"pdf_info\"], data[\"tables\"], data[\"equations\"]"
   ]
  },
  {
   "cell_type": "code",
   "execution_count": 10,
   "metadata": {},
   "outputs": [],
   "source": [
    "with open(\"parsing_result/Salary_regulation(V).md\", \"w\", encoding=\"utf-8\") as file:\n",
    "    file.write(pdf_info[\"content\"])"
   ]
  },
  {
   "cell_type": "code",
   "execution_count": 13,
   "metadata": {},
   "outputs": [],
   "source": [
    "chunkhandler = ChunkHandler.get_instance(api_key)"
   ]
  },
  {
   "cell_type": "code",
   "execution_count": 14,
   "metadata": {},
   "outputs": [],
   "source": [
    "chunk = []"
   ]
  },
  {
   "cell_type": "code",
   "execution_count": 15,
   "metadata": {},
   "outputs": [
    {
     "data": {
      "text/plain": [
       "17"
      ]
     },
     "execution_count": 15,
     "metadata": {},
     "output_type": "execute_result"
    }
   ],
   "source": [
    "articles = chunkhandler.create_article(pdf_info, pages)\n",
    "len(articles)"
   ]
  },
  {
   "cell_type": "code",
   "execution_count": 16,
   "metadata": {},
   "outputs": [
    {
     "data": {
      "text/plain": [
       "0"
      ]
     },
     "execution_count": 16,
     "metadata": {},
     "output_type": "execute_result"
    }
   ],
   "source": [
    "forms = chunkhandler.create_form(pdf_info, pages)\n",
    "len(forms)"
   ]
  },
  {
   "cell_type": "code",
   "execution_count": 17,
   "metadata": {},
   "outputs": [
    {
     "data": {
      "text/plain": [
       "8"
      ]
     },
     "execution_count": 17,
     "metadata": {},
     "output_type": "execute_result"
    }
   ],
   "source": [
    "tbls = chunkhandler.create_table(tables)\n",
    "len(tbls)"
   ]
  },
  {
   "cell_type": "code",
   "execution_count": 18,
   "metadata": {},
   "outputs": [
    {
     "data": {
      "text/plain": [
       "8"
      ]
     },
     "execution_count": 18,
     "metadata": {},
     "output_type": "execute_result"
    }
   ],
   "source": [
    "eqts = chunkhandler.create_equation(equations)\n",
    "len(eqts)"
   ]
  },
  {
   "cell_type": "code",
   "execution_count": 19,
   "metadata": {},
   "outputs": [
    {
     "data": {
      "text/plain": [
       "33"
      ]
     },
     "execution_count": 19,
     "metadata": {},
     "output_type": "execute_result"
    }
   ],
   "source": [
    "chunk.extend(articles)\n",
    "chunk.extend(tbls)\n",
    "chunk.extend(eqts)\n",
    "chunk.extend(forms)\n",
    "len(chunk)"
   ]
  },
  {
   "cell_type": "code",
   "execution_count": 20,
   "metadata": {},
   "outputs": [],
   "source": [
    "with open(\"parsing/Salary_regulation(V)_chunk.json\", \"w\", encoding=\"utf-8\") as json_file:\n",
    "    json.dump(chunk, json_file, indent=4, ensure_ascii=False)"
   ]
  },
  {
   "cell_type": "code",
   "execution_count": null,
   "metadata": {},
   "outputs": [],
   "source": []
  }
 ],
 "metadata": {
  "kernelspec": {
   "display_name": "Python 3",
   "language": "python",
   "name": "python3"
  },
  "language_info": {
   "codemirror_mode": {
    "name": "ipython",
    "version": 3
   },
   "file_extension": ".py",
   "mimetype": "text/x-python",
   "name": "python",
   "nbconvert_exporter": "python",
   "pygments_lexer": "ipython3",
   "version": "3.11.9"
  }
 },
 "nbformat": 4,
 "nbformat_minor": 2
}
