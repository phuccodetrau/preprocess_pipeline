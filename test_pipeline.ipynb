{
 "cells": [
  {
   "cell_type": "markdown",
   "metadata": {},
   "source": [
    "# Tải thư viện"
   ]
  },
  {
   "cell_type": "code",
   "execution_count": null,
   "metadata": {},
   "outputs": [],
   "source": [
    "!pip install -r requirements.txt"
   ]
  },
  {
   "cell_type": "code",
   "execution_count": 1,
   "metadata": {},
   "outputs": [],
   "source": [
    "from preprocess_data.parse_data import ParseHandler\n",
    "from preprocess_data.chunking import ChunkHandler\n",
    "import os\n",
    "import io\n",
    "api_key = os.environ[\"OPENAI_API_KEY_2\"]"
   ]
  },
  {
   "cell_type": "markdown",
   "metadata": {},
   "source": [
    "# Class ParseHandler chứa các hàm dùng để parse file pdf"
   ]
  },
  {
   "cell_type": "code",
   "execution_count": 2,
   "metadata": {},
   "outputs": [],
   "source": [
    "parsehandler = ParseHandler.get_instance(api_key=api_key)"
   ]
  },
  {
   "cell_type": "markdown",
   "metadata": {},
   "source": [
    "## Api parse nhận vào file ở dạng bytes, hàm này dùng để chuyển file pdf thành dạng bytes"
   ]
  },
  {
   "cell_type": "code",
   "execution_count": 4,
   "metadata": {},
   "outputs": [],
   "source": [
    "def pdf_to_stream(file_path):\n",
    "    with open(file_path, 'rb') as pdf_file:\n",
    "        pdf_content = pdf_file.read()\n",
    "        pdf_stream = io.BytesIO(pdf_content)\n",
    "    return pdf_stream"
   ]
  },
  {
   "cell_type": "code",
   "execution_count": 5,
   "metadata": {},
   "outputs": [],
   "source": [
    "file_path = 'thuvienphapluat/law_2. Tai lieu Khach hang cung cap_5. Salary Regulation 2024 (V) (1).pdf'\n",
    "pdf_stream = pdf_to_stream(file_path)"
   ]
  },
  {
   "cell_type": "markdown",
   "metadata": {},
   "source": [
    "## Parse file pdf"
   ]
  },
  {
   "cell_type": "code",
   "execution_count": 6,
   "metadata": {},
   "outputs": [],
   "source": [
    "def parsing(file_stream, pdf_path):\n",
    "    parsehandler = ParseHandler.get_instance(api_key=api_key)\n",
    "    image_base64s = parsehandler.pdf_to_images(file_stream, pdf_path)\n",
    "    pages, pdf_info, tables, equations = parsehandler.parse_pdf(image_base64s, pdf_path)\n",
    "    return pages, pdf_info, tables, equations"
   ]
  },
  {
   "cell_type": "code",
   "execution_count": 7,
   "metadata": {},
   "outputs": [
    {
     "name": "stdout",
     "output_type": "stream",
     "text": [
      "# QUY ĐỊNH VỀ TIỀN LƯƠNG – TIỀN THƯỞNG\n",
      "\n",
      "Sửa đổi 1: Ngày 01 tháng 01 năm 2011  \n",
      "Sửa đổi 2: Ngày 01 tháng 05 năm 2011  \n",
      "Sửa đổi 3: Ngày 01 tháng 01 năm 2012  \n",
      "Sửa đổi 4: Ngày 01 tháng 05 năm 2013  \n",
      "Sửa đổi 5: Ngày 01 tháng 01 năm 2014  \n",
      "Sửa đổi 6: Ngày 01 tháng 01 năm 2015  \n",
      "Sửa đổi 7: Ngày 01 tháng 01 năm 2016  \n",
      "Sửa đổi 8: Ngày 01 tháng 01 năm 2017  \n",
      "Sửa đổi 9: Ngày 01 tháng 01 năm 2022  \n",
      "Sửa đổi 10: Ngày 01 tháng 01 năm 2023  \n",
      "Sửa đổi 11: Ngày 01 tháng 12 năm 2023  \n",
      "\n",
      "# CÔNG TY TNHH BƠM EBARA VIỆT NAM\n",
      "\n",
      "Phê duyệt bởi  \n",
      "Tổng giám đốc  \n",
      "\n",
      "Soạn thảo bởi  \n",
      "Ban Nhân sự  \n",
      "\n",
      "Tetsuya Fuchida  \n",
      "Nguyen Tu Khanh  \n",
      "# Điều 1: Quy định về tiền lương\n",
      "Công ty sẽ trả lương cho cán bộ công nhân viên theo lương tháng và lương ngày, coi đó là sự bù đắp sức lao động trên cơ sở xem xét kết quả trình làm việc, thành tích, năng suất, chất lượng, hiệu quả công việc và sinh hoạt phí hợp hợp với tình hình xã hội và kết quả kinh doanh của công ty.\n",
      "\n",
      "# Điều 2: Cơ cấu tiền lương\n",
      "Lương thường xuyên (Theo Phụ lục I)\n",
      "- Lương cấp bậc\n",
      "  - (*) Trong lương cấp bậc đã bao gồm Phụ cấp chức vụ, Phụ cấp đặc biệt, Phụ cấp chức năng nghề, Phụ cấp độc hại\n",
      "  - Trợ cấp liên quan đời sống\n",
      "  - Trợ cấp nhà ở\n",
      "  - Trợ cấp đi lại\n",
      "  - Lunch Support\n",
      "  - Trợ cấp ăn trưa\n",
      "  - Trợ cấp khác (nếu có)\n",
      "\n",
      "# Điều 3: Lương thường xuyên\n",
      "(*) Thể hiện tại Phụ lục I, trong đó:\n",
      "+ Ngạch lương thể hiện vị trí, chức năng, nhiệm vụ của nhân viên.\n",
      "+ Bậc lương thể hiện thứ bậc được xếp theo thứ tự ở mỗi ngạch lương.\n",
      "+ Mức lương thể hiện giá trị trọng mỗi bậc lương (từ tối thiểu đến tối đa).\n",
      "# Lương thưởng xuyên bao gồm 2 yếu tố dưới đây:\n",
      "Lương thưởng xuyên = Lương cấp bậc + Phụ cấp đời sống\n",
      "\n",
      "1- Công ty xây dựng Bảng lương thưởng xuyên trên cơ sở xem xét mức lương tối thiểu theo quy định của pháp luật và/hoặc chỉ số giá tiêu dùng được ban hành bởi Chính phủ cùng như Báo cáo khảo sát tiền lương trên thị trường lao động Việt Nam (dữ liệu tham khảo hiện nay là Khảo sát lương 2023 dành cho khỏi sản xuất có vốn đầu tư Nhật Bản do tập đoàn Navigos công bố).\n",
      "\n",
      "2- Ít nhất 1 lần trong 5 năm, Bảng lương thưởng xuyên sẽ được chỉnh sửa nếu thấy kết quả khảo sát lương trên thị trường lao động có sự thay đổi đáng kể hoặc chỉ số giá tiêu dùng biến động từ 15% trở lên.\n",
      "\n",
      "3- Bảng Lương thưởng xuyên được phân thành 5 nhóm theo phạm vi công việc của từng nhân viên như sau:\n",
      "\n",
      "1) Nhóm 1/Nhóm Quản lý (M): Cấp Trưởng Phòng, Trưởng Ban, Giám đốc nhà máy.\n",
      "\n",
      "2) Nhóm 2/Nhóm Chuyên viên (P): Tổ trưởng, Nhóm trưởng và những nhân viên có kỹ năng nghề nghiệp cao, được xét chọn bởi nhóm Quản lý.\n",
      "\n",
      "3) Nhóm 3 (E)/ Kỹ sư, nhân viên có kinh nghiệm.\n",
      "\n",
      "4) Nhóm 4 (G)/ Nhân viên nghiệp vụ: làm công việc hỗ trợ kỹ vụ, hành chính tại các bộ phận.\n",
      "\n",
      "5) Nhóm 5 (S)/ Công nhân kỹ thuật: làm việc trực tiếp tại xưởng sản xuất hoặc công trường.\n",
      "\n",
      "## I. Lương cấp bậc bao gồm: Phụ cấp chức vụ, Phụ cấp đặc biệt, Phụ cấp kỹ năng nghề, Phụ cấp năng nhọc độc hại nguy hiểm, trong đó lưu ý:\n",
      "\n",
      "a) Phụ cấp kỹ năng nghề  \n",
      "Người lao động có chứng chỉ kỹ năng nghề nghiệp do JAVADA (Hiệp hội phát triển năng lực nghề nghiệp Nhật Bản) quy định hoặc tương đương sẽ được trả cấp kỹ năng nghề nghiệp hàng tháng. “Phụ cấp kỹ năng nghề” này được quy định tại Phụ lục II.\n",
      "\n",
      "b) Phụ cấp công việc năng nhọc, độc hại nguy hiểm  \n",
      "Người lao động làm công việc năng nhọc, độc hại, nguy hiểm như liệt kê tại Phụ lục III: EVPC - Danh mục nghề, công việc năng nhọc, độc hại và đặc biệt năng nhọc, độc hại, sẽ được áp dụng Phụ cấp lao động năng nhọc là 500.000 đồng:\n",
      "\n",
      "- Nhóm Nẫu lưỡng, nhóm Hoàn thiện và nhóm Khối đúc thuộc phòng Đức, ban Sản xuất & Vật liệu\n",
      "\n",
      "- Nhóm Gò hàn rèn, phòng Gò hàn rèn, ban Sản xuất & Vật liệu\n",
      "# Doc. No. EVPC1200-K23N2001 Rev.1\n",
      "\n",
      "## II. Phụ cấp đi dời sống  \n",
      "### 1. Phụ cấp nhà ở  \n",
      "Công ty áp dụng tri trả Phụ cấp nhà ở 500,000 đồng cho nhân viên sống tại tỉnh Hải Dương và các tỉnh khác (trừ Hà Nội, Hồ Chí Minh và Đồng Nai) và 1,000,000 đồng cho nhân viên cư trú tại Thành phố Hà Nội, Thành phố Hồ Chí Minh và tỉnh Đồng Nai.\n",
      "\n",
      "### 2. Phụ cấp di lại  \n",
      "Công ty hỗ trợ phụ cấp di lại cho toàn thể nhân viên 500,000đ.\n",
      "\n",
      "### 3. Phụ cấp hỗ trợ ăn trưa  \n",
      "Nhân viên làm việc tại Văn phòng đại diện Hà Nội, Chi nhánh Đồng Nai được hỗ trợ ăn trưa 800,000đ.  \n",
      "Nhân viên làm việc tại Trụ sở chính và Nhà máy được cung cấp bữa trưa miễn phí tại công tin.\n",
      "\n",
      "### 4. Phụ cấp khác  \n",
      "- Người lao động được hưởng Bảo hiểm xã hội (đã ghi nhưng chưa hoàn tất việc làm việc tại công ty) được hưởng Trợ cấp Bảo hiểm xã hội theo quy định của Luật Lao động. Phụ cấp Bảo hiểm xã hội được tính dựa trên tổng số lương theo Lương cấp bậc.  \n",
      "- Đối với nhân viên được chỉ định thường xuyên di chuyển đến làm việc tại chi nhánh, nhà máy sẽ được hưởng Phụ cấp di lại (tối đa 2 triệu/tháng). Mức phụ cấp này do Tổng Giám đốc quyết định tùy theo từng trường hợp.\n",
      "\n",
      "#### Điều 4. Kỳ tính lương  \n",
      "Kỳ tính lương được xác định như sau:  \n",
      "1. Lương thường xuyên: Từ ngày 1 đến cuối tháng hiện tại  \n",
      "2. Lương không thường xuyên: Từ ngày 1 đến cuối tháng hiện tại\n",
      "\n",
      "#### Điều 5. Phương thức trả lương  \n",
      "Công ty trả lương bằng tiền mặt hoặc chuyển khoản vào tài khoản ngân hàng của người lao động.\n",
      "\n",
      "#### Điều 6. Ngày trả lương  \n",
      "Tiền lương phải được mô tả chi tiết vào trước ngày trả lương và công ty thực hiện chi trả cho người lao động vào ngày 10 của tháng tiếp theo. Người lao động có thể bị khấu trừ lương trong các trường hợp.\n",
      "# hỢP sau đây:\n",
      "a. Thuế thu nhập cá nhân  \n",
      "b. Bảo hiểm xã hội, bảo hiểm y tế, bảo hiểm thất nghiệp  \n",
      "c. Các khoản trừ trước  \n",
      "d. Bồi thường  \n",
      "e. Các chi phí khác do Công ty và Công đoàn thoả thuận.  \n",
      "\n",
      "## 2) Trường hợp người thanh toán lương là ngày nghỉ lễ thì việc trả lương được thực hiện vào ngày làm việc trước đó.  \n",
      "\n",
      "3) Tiền lương được ưu tiên thanh toán trước các chi phí khác.  \n",
      "\n",
      "4) Việc đóng Bảo hiểm xã hội được tính căn cứ vào tiền lương Cấp bậc (không tính phụ cấp liên quan đến đời sống)  \n",
      "\n",
      "5) Việc thay đổi ngày trả lương do trưởng hợp kháng phải thông báo cho người lao động trước 7 ngày. Công ty có trách nhiệm trả lại cho người lao động theo quy định của ngân hàng nếu chậm trả lương từ 15 ngày trở lên.  \n",
      "\n",
      "6) Khấu trừ lương  \n",
      "Trường hợp vắng mặt (do nghỉ không lương, nghỉ hưởng chế độ Bảo hiểm xã hội, …), công ty sẽ khấu trừ vào lương của người lao động theo công thức sau:  \n",
      "Khấu trừ 1 ngày vắng mặt =  \n",
      "Số ngày làm việc tiêu chuẩn hàng tháng (= 22*)  \n",
      "\n",
      "#### Điều 7. Trả lương trong thời gian thử việc  \n",
      "Trong thời gian thử việc, tiền lương được tính theo công thức sau:  \n",
      "Lương tháng trong thời gian thử việc = [Lương thường xuyên * 85%] * Số ngày làm việc trong tháng   \n",
      "\n",
      "#### Điều 8. Thanh toán đặc biệt  \n",
      "Khi xem xét yêu cầu thuộc các trường hợp sau đây, Công ty phải trả lương cho người lao động theo phân công việc hoàn thành và không phụ thuộc vào Điều 6 - Ngày trả lương:  \n",
      "1) Nhân viên/cán bộ chết.  \n",
      "2) Chấm dứt hợp đồng lao động.  \n",
      "3) Nhân viên/Cán bộ hoặc người phụ cần tiên để chi trả cho tai nạn, thương tật hoặc thiên tai.  \n",
      "4) Nhân viên/Cán bộ hoặc gia đình họ cần tiên để chi trả cho đám cưới, sinh con, tang lễ.\n",
      "# Điều 9. Tạm ứng tiền lương\n",
      "Trong khi xem xét yêu cầu hoặc các trường hợp sau đây, Công ty sẽ tạm ứng trước cho người lao động. Tuy nhiên, nó phải được đảm bảo tuân thủ các quy định khác.\n",
      "1) Nhân viên/Cán bộ hoặc gia đình họ cần tiền để chi trả cho những khẩn phát sinh.\n",
      "2) Nhân viên/Cán bộ đề nghị để tham gia các hoạt động theo yêu cầu của Chính quyền.\n",
      "3) Các trường hợp có sự chấp thuận của Công ty.\n",
      "\n",
      "# Điều 10. Lương không thường xuyên\n",
      "Phụ cấp này được tính theo công thức sau:\n",
      "Phụ cấp làm thêm ngoài giờ (mỗi 1 giờ)\n",
      "=\n",
      "(Lương cấp bậc) * Hệ số phụ cấp *1)\n",
      "\n",
      "Ngày làm việc tiêu chuẩn hàng tháng * Số giờ làm việc tiêu chuẩn mỗi ngày\n",
      "=\n",
      "(Lương cấp bậc) * Hệ số phụ cấp *1)\n",
      "=\n",
      "22 (ngày) * 8 (giờ)\n",
      "\n",
      "*1) Hệ số phụ cấp được tính như sau:\n",
      "\n",
      "Ngài thường        | Thứ 7, Chủ nhật & Ngày nghỉ lễ của Công ty | Ngày lễ\n",
      "-------------------|----------------------------------------------|--------\n",
      "6:00AM - 22:00     | 1.5                                          | 2.0\n",
      "22:00 - 6:00AM     | 2.1                                          | 2.7\n",
      "                     | = 2.0 + 0.3*2) + (0.2*2) x. 2.0            | = 3.0 + 0.3*2) + (0.2*3) x. 3.0\n",
      "\n",
      "*2) Hệ số phụ cấp làm việc ca đêm \n",
      "*3) Hệ số phụ cấp làm thêm giờ vào ban đêm\n",
      "\n",
      "Phụ cấp làm việc ca đêm\n",
      "Người lao động làm việc ca đêm (từ 22h đến 6h) được hưởng thêm các khoản phụ cấp sau:\n",
      "Phụ cấp làm việc ca ban đêm (mỗi 1 giờ)\n",
      "=\n",
      "(Lương cấp bậc) * 0.3\n",
      "\n",
      "Ngày làm việc tiêu chuẩn hàng tháng * Số giờ làm việc tiêu chuẩn mỗi ngày\n",
      "=\n",
      "(Lương cấp bậc) * 0.3\n",
      "=\n",
      "22 (ngày) * 8 (giờ)\n",
      "\n",
      "(*) Làm thêm giờ chỉ áp dụng đối với các công việc trực tiếp tại nhà máy, văn phòng, công trường dự án. Thời gian tiếp khách hoặc di chuyển trên đường sẽ không được tính là làm thêm giờ.\n",
      "# Điều 11. Lương ngừng việc\n",
      "Căn cứ Điều 99 Bộ luật Lao động 2019, trường hợp tạm ngừng việc thì tiền lương ngừng việc được trả như sau:\n",
      "1) Nếu do lỗi từ phía Công ty, người lao động được thanh toán lương theo Bảng lương.\n",
      "2) Nếu do lỗi từ phía người lao động thì người lao động được trừ lương.\n",
      "3) Trường hợp vì sự cố diện, nước không phải do lỗi của Công ty hoặc do thiên tai, hỏa hoạn, dịch bệnh, điều hoạ, điều này phải theo yêu cầu của cơ quan có thẩm quyền hoặc lý do kinh tế, hai bên sẽ thỏa thuận mức lương như sau:\n",
      "   a) Nếu thời gian ngừng việc không quá 14 ngày làm việc; tùy trường hợp công ty sẽ bố trí làm việc trả lương vào ngày khác hoặc bổ trừ nghỉ phép hàng năm hoặc công ty trả 75% lương theo Bảng lương.\n",
      "   b) Nếu ngừng việc quá 14 ngày làm việc thì mức lương do hai bên thỏa thuận (nhưng không thấp hơn mức lương tối thiểu vùng I hiện hành của Chính phủ).\n",
      "\n",
      "# Điều 12. Đánh giá, xác định tiền lương và quy chế tăng/ giảm lương\n",
      "1) Định kỳ hàng tháng/ quý hoặc năm, Công ty có thể xem xét và xác định mức lương của nhân viên dựa trên khả năng, trình độ, điều kiện làm việc, vai trò, kết quả đánh giá hiệu quả công việc, sự tuân thủ nội quy quy định, tinh thần chuyên cần. Các trường hợp đặc biệt Công ty có thể thay đổi mức lương khi thấy cần thiết căn cứ vào hiệu quả công việc thực tế của từng trường hợp cụ thể.\n",
      "2) Từng tiền lương và tiêu chuẩn xác định mức lương được xác định theo từng trường hợp cụ thể căn cứ theo kết quả đánh giá hiệu quả công việc của nhân viên và phân loại đánh giá theo phương pháp đánh giá như sau:\n",
      "\n",
      "# Xếp loại đánh giá\n",
      "| Loại   | Ghi chú                          |\n",
      "|--------|----------------------------------|\n",
      "| Xuất sắc | A Thể hiện năng lực xuất sắc     |\n",
      "| Tốt     | B+/B Thể hiện năng lực cao hơn mức yêu cầu |\n",
      "| Trung bình | C Thể hiện năng lực đạt mức yêu cầu   |\n",
      "| Kém     | D Thể hiện năng lực thấp hơn mức yêu cầu |\n",
      "# Điều 13. Điều kiện chuyển đổi Ngạch lương/ Bậc lương\n",
      "\n",
      "1- Việc chuyển đổi Ngạch lương chỉ áp dụng khi người lao động được giao một việc hoặc chức vụ mới.\n",
      "\n",
      "2- Việc chuyển đổi bậc lương trong một ngạch lương sẽ áp dụng như sau:\n",
      "\n",
      "Ngạch P  \n",
      "- Nhóm 2 Tổ Trưởng, Nhóm trưởng, Chuyên viên  \n",
      "- Người đánh giá TL> GL > SM > GM trực tiếp và Ban Nhân Sự  \n",
      "- Tiêu chuẩn được xét chuyển đổi Kinh nghiệm làm việc liên quan đến bảng cấp lương được chuyển đổi  \n",
      "- Xếp loại để được chuyển bậc A > B* > B > C > D  \n",
      "\n",
      "Ngạch E  \n",
      "- Nhóm 3 Kỹ sư, cử nhân người có KN  \n",
      "- Người đánh giá TL> GL > SM > GM trực tiếp và Ban Nhân Sự  \n",
      "- Tiêu chuẩn được xét chuyển đổi 12 tháng  \n",
      "- Xếp loại A > B* > B > C > D  \n",
      "\n",
      "Ngạch G  \n",
      "- Nhóm 3 Nhân viên nghiệp vụ  \n",
      "- Nhóm 4 Công nhân kỹ thuật  \n",
      "- Người đánh giá TL> GL > SM > GM trực tiếp và Ban Nhân Sự  \n",
      "- Tiêu chuẩn được xét chuyển đổi 12 tháng  \n",
      "- Xếp loại A > B* > B > C > D  \n",
      "\n",
      "Ngạch M  \n",
      "- Nhóm 1/ Quản lý  \n",
      "- Tổng Giám Đốc trực tiếp đánh giá các Trưởng Ban thông qua phòng vận trực tiếp  \n",
      "# Quy chế xét tăng/giảm lương:\n",
      "- Người lao động được đánh giá loại A sẽ được tăng 100% giá trị của khoảng cách giữa mức lương hiện tại với mức lương bậc cao nhất.\n",
      "- Người lao động được đánh giá loại B sẽ được tăng 80% giá trị của khoảng cách giữa mức lương hiện tại với mức lương bậc cao nhất tiếp.\n",
      "- Người lao động được đánh giá loại C sẽ được tăng 70% giá trị của khoảng cách giữa mức lương hiện tại với mức lương bậc cao nhất tiếp.\n",
      "- Người lao động được đánh giá loại C sẽ giữ nguyên mức lương hiện tại.\n",
      "- Người lao động được đánh giá loại D sẽ bị giảm 50% giá trị của khoảng cách giữa mức lương hiện tại với mức lương bậc cao nhất tiếp.\n",
      "(*) Trường hợp đặc biệt không đủ điều kiện tăng bậc lương, tuy nhiên có thể được cân nhắc điều chỉnh thưởng trước cả Ban Giám Đốc.\n",
      "\n",
      "#### Điều 14. Tiền lương nghỉ phép hàng năm và ngày nghỉ đặc biệt được hưởng nguyên lương\n",
      "- Công ty sẽ thanh toán những ngày phép tồn đối với người lao động do thôi việc hoặc mất việc làm.\n",
      "  + Ngày nghỉ phép hàng năm chưa dùng hết sẽ được tính theo công thức sau:\n",
      "  \n",
      "  Lương cấp bậc = Số ngày làm việc tiêu chuẩn hàng tháng ( = 22*)\n",
      "\n",
      "#### Điều 15. Trả lương cho gia đình người lao động qua đời\n",
      "Giải quyết việc thanh toán tiền lương cho thân nhân người lao động qua đời được thực hiện theo quy định của pháp luật Việt Nam.\n",
      "\n",
      "#### Điều 16. Tiền thưởng cuối năm\n",
      "1) Công ty thực hiện việc thanh toán thưởng mỗi năm một lần khi hoạt động kinh doanh có lãi.\n",
      "2) Tiền thưởng được căn cứ vào tiền lương cấp bậc và kết quả đóng góp của người lao động trong năm đó dựa vào bảng đánh giá cuối năm (MBO hoặc trong đỏ).\n",
      "3) Nếu hoạt động kinh doanh của Công ty không có lãi thì tiền thưởng sẽ không có hoặc việc thanh toán tiền thưởng sẽ bị hoãn.\n",
      "4) Người lao động nghỉ việc trước ngày 31 tháng 12 năm đó không được thưởng. Tuy nhiên nếu Người lao động nghỉ hưu vào thời điểm trước 31/12 hàng năm thì sẽ được xem thưởng dựa trên số tháng còn làm việc tại công ty trong năm cuối cùng đó. Việc trả thưởng sẽ tiến hành vào thời điểm cuối năm và NLD đã nghỉ hưu sẽ chịu thuế TNCN theo luật định tại thời điểm nhận thưởng.\n",
      "5) Trường hợp đặc biệt khác cần trường quyết định của Tổng Giám đốc.\n",
      "6) Tiền thưởng phải được tính như sau:\n",
      "Tổng tiền thưởng = Tiền thưởng x Tỷ lệ làm việc trong năm\n",
      "#### Điều 17. Tiền thưởng thâm niên  \n",
      "Công ty thực hiện việc thưởng thâm niên vào cuối mỗi năm dựa theo các mốc sau:\n",
      "\n",
      "| Number of years working at EVPC | Bonus amount (VND) |\n",
      "|----------------------------------|---------------------|\n",
      "| 5 years                          | 1.500.000           |\n",
      "| 10 years                         | 3.000.000           |\n",
      "| 15 years                         | 4.500.000           |\n",
      "| 20 years                         | 6.000.000           |\n",
      "| 25 years                         | 7.500.000           |\n",
      "| 30 years                         | 9.000.000           |\n",
      "| 35 years                         | 10.500.000          |\n",
      "| 40 years                         | 12.000.000          |\n"
     ]
    }
   ],
   "source": [
    "pages, pdf_info, tables, equations = parsing(pdf_stream, file_path)"
   ]
  },
  {
   "cell_type": "markdown",
   "metadata": {},
   "source": [
    "## Lưu kết quả parse"
   ]
  },
  {
   "cell_type": "code",
   "execution_count": 8,
   "metadata": {},
   "outputs": [],
   "source": [
    "import json\n",
    "data = {\"pages\": pages, \"pdf_info\": pdf_info, \"tables\": tables, \"equations\": equations}\n",
    "with open(\"parsing_result/Salary_regulation(V).json\", \"w\", encoding=\"utf-8\") as json_file:\n",
    "    json.dump(data, json_file, indent=4, ensure_ascii=False)"
   ]
  },
  {
   "cell_type": "code",
   "execution_count": 9,
   "metadata": {},
   "outputs": [],
   "source": [
    "import json\n",
    "with open(\"parsing_result/Salary_regulation(V).json\", \"r\", encoding=\"utf-8\") as json_file:\n",
    "    data = json.load(json_file)"
   ]
  },
  {
   "cell_type": "markdown",
   "metadata": {},
   "source": [
    "### Lưu kết quả parse các bảng"
   ]
  },
  {
   "cell_type": "code",
   "execution_count": 10,
   "metadata": {},
   "outputs": [],
   "source": [
    "with open(f\"parsing_result/tables.md\", \"a\", encoding=\"utf-8\") as file:\n",
    "    for table in data[\"tables\"]:\n",
    "        file.write(table[\"content\"] + \"\\n\\n\")"
   ]
  },
  {
   "cell_type": "markdown",
   "metadata": {},
   "source": [
    "### Lưu kết quả parse các biểu thức"
   ]
  },
  {
   "cell_type": "code",
   "execution_count": 11,
   "metadata": {},
   "outputs": [],
   "source": [
    "with open(f\"parsing_result/equations.md\", \"a\", encoding=\"utf-8\") as file:\n",
    "    for equation in data[\"equations\"]:\n",
    "        file.write(equation[\"content\"] + \"\\n\\n\")"
   ]
  },
  {
   "cell_type": "code",
   "execution_count": 12,
   "metadata": {},
   "outputs": [],
   "source": [
    "pages, pdf_info, tables, equations = data[\"pages\"], data[\"pdf_info\"], data[\"tables\"], data[\"equations\"]"
   ]
  },
  {
   "cell_type": "markdown",
   "metadata": {},
   "source": [
    "### Lưu kết quả parse toàn bộ file pdf"
   ]
  },
  {
   "cell_type": "code",
   "execution_count": 13,
   "metadata": {},
   "outputs": [],
   "source": [
    "with open(\"parsing_result/Salary_regulation(V).md\", \"w\", encoding=\"utf-8\") as file:\n",
    "    file.write(pdf_info[\"content\"])"
   ]
  },
  {
   "cell_type": "markdown",
   "metadata": {},
   "source": [
    "# Class ChunkHandler chứa các hàm dùng để chunk dữ liệu"
   ]
  },
  {
   "cell_type": "code",
   "execution_count": 14,
   "metadata": {},
   "outputs": [],
   "source": [
    "chunkhandler = ChunkHandler.get_instance(api_key)"
   ]
  },
  {
   "cell_type": "code",
   "execution_count": 15,
   "metadata": {},
   "outputs": [],
   "source": [
    "chunk = []"
   ]
  },
  {
   "cell_type": "markdown",
   "metadata": {},
   "source": [
    "## Chunk các Điều luật"
   ]
  },
  {
   "cell_type": "code",
   "execution_count": 16,
   "metadata": {},
   "outputs": [
    {
     "data": {
      "text/plain": [
       "17"
      ]
     },
     "execution_count": 16,
     "metadata": {},
     "output_type": "execute_result"
    }
   ],
   "source": [
    "articles = chunkhandler.create_article(pdf_info, pages)\n",
    "len(articles)"
   ]
  },
  {
   "cell_type": "markdown",
   "metadata": {},
   "source": [
    "## Chunk các biểu mẫu"
   ]
  },
  {
   "cell_type": "code",
   "execution_count": 17,
   "metadata": {},
   "outputs": [
    {
     "data": {
      "text/plain": [
       "0"
      ]
     },
     "execution_count": 17,
     "metadata": {},
     "output_type": "execute_result"
    }
   ],
   "source": [
    "forms = chunkhandler.create_form(pdf_info, pages)\n",
    "len(forms)"
   ]
  },
  {
   "cell_type": "markdown",
   "metadata": {},
   "source": [
    "## Chunk các bảng"
   ]
  },
  {
   "cell_type": "code",
   "execution_count": 18,
   "metadata": {},
   "outputs": [
    {
     "data": {
      "text/plain": [
       "5"
      ]
     },
     "execution_count": 18,
     "metadata": {},
     "output_type": "execute_result"
    }
   ],
   "source": [
    "tbls = chunkhandler.create_table(tables)\n",
    "len(tbls)"
   ]
  },
  {
   "cell_type": "markdown",
   "metadata": {},
   "source": [
    "## Chunk các biểu thức"
   ]
  },
  {
   "cell_type": "code",
   "execution_count": 19,
   "metadata": {},
   "outputs": [
    {
     "data": {
      "text/plain": [
       "8"
      ]
     },
     "execution_count": 19,
     "metadata": {},
     "output_type": "execute_result"
    }
   ],
   "source": [
    "eqts = chunkhandler.create_equation(equations)\n",
    "len(eqts)"
   ]
  },
  {
   "cell_type": "code",
   "execution_count": 20,
   "metadata": {},
   "outputs": [
    {
     "data": {
      "text/plain": [
       "30"
      ]
     },
     "execution_count": 20,
     "metadata": {},
     "output_type": "execute_result"
    }
   ],
   "source": [
    "chunk.extend(articles)\n",
    "chunk.extend(tbls)\n",
    "chunk.extend(eqts)\n",
    "chunk.extend(forms)\n",
    "len(chunk)"
   ]
  },
  {
   "cell_type": "markdown",
   "metadata": {},
   "source": [
    "## Lưu kết quả của tất cả chunk"
   ]
  },
  {
   "cell_type": "code",
   "execution_count": 21,
   "metadata": {},
   "outputs": [],
   "source": [
    "with open(\"parsing_result/Salary_regulation(V)_chunk.json\", \"w\", encoding=\"utf-8\") as json_file:\n",
    "    json.dump(chunk, json_file, indent=4, ensure_ascii=False)"
   ]
  },
  {
   "cell_type": "code",
   "execution_count": null,
   "metadata": {},
   "outputs": [],
   "source": []
  }
 ],
 "metadata": {
  "kernelspec": {
   "display_name": "Python 3",
   "language": "python",
   "name": "python3"
  },
  "language_info": {
   "codemirror_mode": {
    "name": "ipython",
    "version": 3
   },
   "file_extension": ".py",
   "mimetype": "text/x-python",
   "name": "python",
   "nbconvert_exporter": "python",
   "pygments_lexer": "ipython3",
   "version": "3.8.18"
  }
 },
 "nbformat": 4,
 "nbformat_minor": 2
}
